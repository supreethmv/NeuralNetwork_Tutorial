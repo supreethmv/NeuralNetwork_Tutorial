{
  "nbformat": 4,
  "nbformat_minor": 0,
  "metadata": {
    "colab": {
      "name": "Pytorch_tutorial_A.ipynb",
      "provenance": [],
      "collapsed_sections": [
        "d4dDwcWG5iva",
        "Fz3ZdpwI51VT"
      ]
    },
    "kernelspec": {
      "name": "python3",
      "display_name": "Python 3"
    },
    "accelerator": "GPU"
  },
  "cells": [
    {
      "cell_type": "markdown",
      "metadata": {
        "id": "d4dDwcWG5iva",
        "colab_type": "text"
      },
      "source": [
        "## Reference\n",
        "\n",
        "\n"
      ]
    },
    {
      "cell_type": "markdown",
      "metadata": {
        "id": "03pTpAzbE93T",
        "colab_type": "text"
      },
      "source": [
        "*   [1](https://pytorch.org/tutorials/beginner/blitz/tensor_tutorial.html#sphx-glr-beginner-blitz-tensor-tutorial-py)\n",
        "\n",
        "\n",
        "*   [2](http://deeplearning.cs.cmu.edu/)\n",
        "\n",
        "* [3](https://github.com/rougier/numpy-100/blob/master/100_Numpy_exercises.md)\n",
        "\n",
        "\n",
        "*  [4](https://github.com/yunjey/pytorch-tutorial)\n",
        "\n"
      ]
    },
    {
      "cell_type": "markdown",
      "metadata": {
        "id": "Fz3ZdpwI51VT",
        "colab_type": "text"
      },
      "source": [
        "## Imports"
      ]
    },
    {
      "cell_type": "code",
      "metadata": {
        "id": "xnNzDSxG55Jd",
        "colab_type": "code",
        "colab": {}
      },
      "source": [
        "import numpy as np\n",
        "import torch\n",
        "import torchvision\n",
        "import matplotlib.pyplot as plt"
      ],
      "execution_count": 0,
      "outputs": []
    },
    {
      "cell_type": "markdown",
      "metadata": {
        "id": "1Fz_PSs05q4C",
        "colab_type": "text"
      },
      "source": [
        "## Tensors"
      ]
    },
    {
      "cell_type": "markdown",
      "metadata": {
        "id": "snXsw3yS6nkW",
        "colab_type": "text"
      },
      "source": [
        "Constructing a tensor directly from data:"
      ]
    },
    {
      "cell_type": "code",
      "metadata": {
        "id": "tsRmOkfC6qI3",
        "colab_type": "code",
        "colab": {}
      },
      "source": [
        "x = torch.tensor([1, 2, 3, 4])"
      ],
      "execution_count": 0,
      "outputs": []
    },
    {
      "cell_type": "markdown",
      "metadata": {
        "id": "xX4RS8jL7Fbq",
        "colab_type": "text"
      },
      "source": [
        "We may check the data type, shape and device of tensor as follows:"
      ]
    },
    {
      "cell_type": "code",
      "metadata": {
        "id": "lh48hiIt65iP",
        "colab_type": "code",
        "outputId": "1830d079-d833-43e5-a28f-c0b2e6ebf58e",
        "colab": {
          "base_uri": "https://localhost:8080/",
          "height": 85
        }
      },
      "source": [
        "print('dtyep = ', x.dtype)\n",
        "print('shape = ', x.shape)\n",
        "print('shape = ',  x.size())\n",
        "print('device = ', x.device)"
      ],
      "execution_count": 0,
      "outputs": [
        {
          "output_type": "stream",
          "text": [
            "dtyep =  torch.int64\n",
            "shape =  torch.Size([4])\n",
            "shape =  torch.Size([4])\n",
            "device =  cpu\n"
          ],
          "name": "stdout"
        }
      ]
    },
    {
      "cell_type": "markdown",
      "metadata": {
        "id": "3JPpwcgT77wb",
        "colab_type": "text"
      },
      "source": [
        "Let's change the dtype of tensors to float32:\n",
        "\n"
      ]
    },
    {
      "cell_type": "code",
      "metadata": {
        "id": "Sj2yzrzN7b7q",
        "colab_type": "code",
        "outputId": "32ee6ab5-5c8f-40e1-ebbb-bbde8e07100f",
        "colab": {
          "base_uri": "https://localhost:8080/",
          "height": 34
        }
      },
      "source": [
        "x = x.to(torch.float32)\n",
        "print(x.dtype)"
      ],
      "execution_count": 0,
      "outputs": [
        {
          "output_type": "stream",
          "text": [
            "torch.float32\n"
          ],
          "name": "stdout"
        }
      ]
    },
    {
      "cell_type": "markdown",
      "metadata": {
        "id": "M_0iO36r8XUs",
        "colab_type": "text"
      },
      "source": [
        "Let's put the tensor on GPU. We first check whether the GPU is availabel"
      ]
    },
    {
      "cell_type": "code",
      "metadata": {
        "id": "Jf8IRATR8Wv7",
        "colab_type": "code",
        "outputId": "01c77b11-f097-478f-9bd2-caf0f8e57b4d",
        "colab": {
          "base_uri": "https://localhost:8080/",
          "height": 34
        }
      },
      "source": [
        "print(torch.cuda.is_available())"
      ],
      "execution_count": 0,
      "outputs": [
        {
          "output_type": "stream",
          "text": [
            "True\n"
          ],
          "name": "stdout"
        }
      ]
    },
    {
      "cell_type": "code",
      "metadata": {
        "id": "DqXnCdPM8K_d",
        "colab_type": "code",
        "outputId": "e77ec359-aa53-4264-81bb-647ca33cccac",
        "colab": {
          "base_uri": "https://localhost:8080/",
          "height": 34
        }
      },
      "source": [
        "x = x.to('cuda')\n",
        "print('device = ', x.device)"
      ],
      "execution_count": 0,
      "outputs": [
        {
          "output_type": "stream",
          "text": [
            "device =  cuda:0\n"
          ],
          "name": "stdout"
        }
      ]
    },
    {
      "cell_type": "markdown",
      "metadata": {
        "id": "wiLKI3Fd9O7K",
        "colab_type": "text"
      },
      "source": [
        "<font color='red'> **Q 1** </font> :  **Put x back on CPU and change its dtype to int16**.\n",
        "\n",
        "\n",
        "\n"
      ]
    },
    {
      "cell_type": "code",
      "metadata": {
        "id": "7xeA-sos9mnx",
        "colab_type": "code",
        "outputId": "3578e7e3-527e-40ba-8e0e-e4cd805a7f1e",
        "colab": {
          "base_uri": "https://localhost:8080/",
          "height": 34
        }
      },
      "source": [
        "x = x.to('cpu', torch.int16)\n",
        "print(x)"
      ],
      "execution_count": 0,
      "outputs": [
        {
          "output_type": "stream",
          "text": [
            "tensor([1, 2, 3, 4], dtype=torch.int16)\n"
          ],
          "name": "stdout"
        }
      ]
    },
    {
      "cell_type": "markdown",
      "metadata": {
        "id": "jLtHAc8q_VUZ",
        "colab_type": "text"
      },
      "source": [
        "<font color='red'> **Q 2** </font> : **Convert x to a numpy array.**\n",
        "\n"
      ]
    },
    {
      "cell_type": "code",
      "metadata": {
        "id": "TUmLRQlm_cZW",
        "colab_type": "code",
        "outputId": "7dd5deaa-ee5d-4524-c800-aa164b0b30bf",
        "colab": {
          "base_uri": "https://localhost:8080/",
          "height": 34
        }
      },
      "source": [
        "y = x.numpy()\n",
        "print(y)"
      ],
      "execution_count": 0,
      "outputs": [
        {
          "output_type": "stream",
          "text": [
            "[1 2 3 4]\n"
          ],
          "name": "stdout"
        }
      ]
    },
    {
      "cell_type": "markdown",
      "metadata": {
        "id": "AofFQV4xAeV6",
        "colab_type": "text"
      },
      "source": [
        "We can change the shape of tensors as follows:"
      ]
    },
    {
      "cell_type": "code",
      "metadata": {
        "id": "ixTqLh4p_hCn",
        "colab_type": "code",
        "outputId": "52313fb6-7605-47fd-b628-b9c4d2414509",
        "colab": {
          "base_uri": "https://localhost:8080/",
          "height": 51
        }
      },
      "source": [
        "x = x.view([2, 2])\n",
        "print(x)"
      ],
      "execution_count": 0,
      "outputs": [
        {
          "output_type": "stream",
          "text": [
            "tensor([[1, 2],\n",
            "        [3, 4]], dtype=torch.int16)\n"
          ],
          "name": "stdout"
        }
      ]
    },
    {
      "cell_type": "markdown",
      "metadata": {
        "id": "8H7xlXBjA2EL",
        "colab_type": "text"
      },
      "source": [
        "Now x is a $2\\times2$  tensor."
      ]
    },
    {
      "cell_type": "markdown",
      "metadata": {
        "id": "qJs93PQHBbDI",
        "colab_type": "text"
      },
      "source": [
        "We may also use creation operators to define and initialize tensors:"
      ]
    },
    {
      "cell_type": "code",
      "metadata": {
        "id": "7HryfvWIAsPS",
        "colab_type": "code",
        "outputId": "74c1e0c6-0375-40cb-cab9-8015afbd90c2",
        "colab": {
          "base_uri": "https://localhost:8080/",
          "height": 51
        }
      },
      "source": [
        "torch.zeros(2, 3) "
      ],
      "execution_count": 0,
      "outputs": [
        {
          "output_type": "execute_result",
          "data": {
            "text/plain": [
              "tensor([[0., 0., 0.],\n",
              "        [0., 0., 0.]])"
            ]
          },
          "metadata": {
            "tags": []
          },
          "execution_count": 11
        }
      ]
    },
    {
      "cell_type": "code",
      "metadata": {
        "id": "mPTkyPP-CroQ",
        "colab_type": "code",
        "outputId": "7c988ef9-5ec6-4275-fe57-1c137842b13f",
        "colab": {
          "base_uri": "https://localhost:8080/",
          "height": 51
        }
      },
      "source": [
        "torch.ones(2, 2)"
      ],
      "execution_count": 0,
      "outputs": [
        {
          "output_type": "execute_result",
          "data": {
            "text/plain": [
              "tensor([[1., 1.],\n",
              "        [1., 1.]])"
            ]
          },
          "metadata": {
            "tags": []
          },
          "execution_count": 12
        }
      ]
    },
    {
      "cell_type": "code",
      "metadata": {
        "id": "Ny74HeS7Cpke",
        "colab_type": "code",
        "outputId": "e51966bd-1403-44ac-97f2-f14acdcd6280",
        "colab": {
          "base_uri": "https://localhost:8080/",
          "height": 34
        }
      },
      "source": [
        "torch.arange(1, 4)"
      ],
      "execution_count": 0,
      "outputs": [
        {
          "output_type": "execute_result",
          "data": {
            "text/plain": [
              "tensor([1, 2, 3])"
            ]
          },
          "metadata": {
            "tags": []
          },
          "execution_count": 13
        }
      ]
    },
    {
      "cell_type": "code",
      "metadata": {
        "id": "TM_7ofrPCq-8",
        "colab_type": "code",
        "outputId": "5eecb6ab-95c8-481e-ce89-13810eb38e78",
        "colab": {
          "base_uri": "https://localhost:8080/",
          "height": 68
        }
      },
      "source": [
        "torch.eye(3)"
      ],
      "execution_count": 0,
      "outputs": [
        {
          "output_type": "execute_result",
          "data": {
            "text/plain": [
              "tensor([[1., 0., 0.],\n",
              "        [0., 1., 0.],\n",
              "        [0., 0., 1.]])"
            ]
          },
          "metadata": {
            "tags": []
          },
          "execution_count": 14
        }
      ]
    },
    {
      "cell_type": "code",
      "metadata": {
        "id": "ADmX3j_8CzvS",
        "colab_type": "code",
        "outputId": "c85f0d71-90ea-4db2-cd4b-4a9b2ac4a5e6",
        "colab": {
          "base_uri": "https://localhost:8080/",
          "height": 51
        }
      },
      "source": [
        "torch.randn(2, 3)"
      ],
      "execution_count": 0,
      "outputs": [
        {
          "output_type": "execute_result",
          "data": {
            "text/plain": [
              "tensor([[ 0.7681,  0.1557,  0.1723],\n",
              "        [ 0.0820,  0.5680, -0.0577]])"
            ]
          },
          "metadata": {
            "tags": []
          },
          "execution_count": 15
        }
      ]
    },
    {
      "cell_type": "markdown",
      "metadata": {
        "id": "rKGByvfVDNsr",
        "colab_type": "text"
      },
      "source": [
        "<font color='red'> **Q 3** </font> : **Initialize x and y cuda tensors with shape [4, 3] and [2, 6] according to uniform distribution on the interva [0, 1). Reshpae y according to x's shape.**\n",
        "\n",
        "\n",
        "\n"
      ]
    },
    {
      "cell_type": "code",
      "metadata": {
        "id": "z7N7b16ZDMtV",
        "colab_type": "code",
        "outputId": "f805d0ec-aada-41e2-a415-2f09abb47fd9",
        "colab": {
          "base_uri": "https://localhost:8080/",
          "height": 187
        }
      },
      "source": [
        "x = torch.rand([4, 3], device='cuda')\n",
        "print(x)\n",
        "y = torch.rand([2, 6], device='cuda')\n",
        "print(y)\n",
        "y = y.view(x.shape)\n",
        "print(y)"
      ],
      "execution_count": 0,
      "outputs": [
        {
          "output_type": "stream",
          "text": [
            "tensor([[0.3386, 0.1887, 0.5383],\n",
            "        [0.5860, 0.0036, 0.9778],\n",
            "        [0.3388, 0.4781, 0.6507],\n",
            "        [0.3954, 0.4795, 0.9900]], device='cuda:0')\n",
            "tensor([[0.6402, 0.9359, 0.4690, 0.3798, 0.1698, 0.8238],\n",
            "        [0.8233, 0.1483, 0.4389, 0.3957, 0.0377, 0.5186]], device='cuda:0')\n",
            "tensor([[0.6402, 0.9359, 0.4690],\n",
            "        [0.3798, 0.1698, 0.8238],\n",
            "        [0.8233, 0.1483, 0.4389],\n",
            "        [0.3957, 0.0377, 0.5186]], device='cuda:0')\n"
          ],
          "name": "stdout"
        }
      ]
    },
    {
      "cell_type": "markdown",
      "metadata": {
        "id": "O8mwgM3IErkI",
        "colab_type": "text"
      },
      "source": [
        " ***Operations on tensors.***"
      ]
    },
    {
      "cell_type": "markdown",
      "metadata": {
        "id": "EFFYEQwAFAKx",
        "colab_type": "text"
      },
      "source": [
        "<font color='red'> **Q 4** </font> : **Create two tensors x, y with  random integer in the range=[0, 10) and size=10000. How much percent of their elements are equvalent?**"
      ]
    },
    {
      "cell_type": "code",
      "metadata": {
        "id": "_3OprMOCbj7N",
        "colab_type": "code",
        "outputId": "2766eb56-8651-400a-dc4c-f33802444444",
        "colab": {
          "base_uri": "https://localhost:8080/",
          "height": 34
        }
      },
      "source": [
        "x = torch.randint(low=0, high=10, size=(1000,))\n",
        "y = torch.randint(low=0, high=10, size=(1000,))\n",
        "percent = x.eq(y).sum().to(torch.float32) / x.shape[0]\n",
        "print(percent)"
      ],
      "execution_count": 0,
      "outputs": [
        {
          "output_type": "stream",
          "text": [
            "tensor(0.0920)\n"
          ],
          "name": "stdout"
        }
      ]
    },
    {
      "cell_type": "markdown",
      "metadata": {
        "id": "SZkDggJIdRv2",
        "colab_type": "text"
      },
      "source": [
        "<font color='red'> **Q 5** </font> : **Normalize a random vector with size=10 ?**\n"
      ]
    },
    {
      "cell_type": "code",
      "metadata": {
        "id": "f4Vy4yyqeIgb",
        "colab_type": "code",
        "outputId": "dfaaeb93-8ca7-4212-f4f2-25e0ff83b5f7",
        "colab": {
          "base_uri": "https://localhost:8080/",
          "height": 90
        }
      },
      "source": [
        "x = torch.rand(10)\n",
        "x_normalized = (x - x.mean()) / x.std()\n",
        "print(x)\n",
        "print(x_normalized.mean())\n",
        "print(x_normalized.std())"
      ],
      "execution_count": 0,
      "outputs": [
        {
          "output_type": "stream",
          "text": [
            "tensor([0.0520, 0.8545, 0.1653, 0.0119, 0.3630, 0.0105, 0.4971, 0.7823, 0.3975,\n",
            "        0.5079])\n",
            "tensor(8.9407e-09)\n",
            "tensor(1.)\n"
          ],
          "name": "stdout"
        }
      ]
    },
    {
      "cell_type": "markdown",
      "metadata": {
        "id": "VnN4PDqLdRzA",
        "colab_type": "text"
      },
      "source": [
        "<font color='red'> **Q 6** </font> :**Multiply a 5x3 matrix by a 3x2 matrix.**\n"
      ]
    },
    {
      "cell_type": "code",
      "metadata": {
        "id": "sg_t6paofKCD",
        "colab_type": "code",
        "outputId": "f98a0368-0b28-42a3-e3b6-918d60b04f69",
        "colab": {
          "base_uri": "https://localhost:8080/",
          "height": 109
        }
      },
      "source": [
        "Z = torch.mm(torch.ones((5,3)), torch.ones((3,2)))\n",
        "print(Z)"
      ],
      "execution_count": 0,
      "outputs": [
        {
          "output_type": "stream",
          "text": [
            "tensor([[3., 3.],\n",
            "        [3., 3.],\n",
            "        [3., 3.],\n",
            "        [3., 3.],\n",
            "        [3., 3.]])\n"
          ],
          "name": "stdout"
        }
      ]
    },
    {
      "cell_type": "markdown",
      "metadata": {
        "id": "LUaycIj-dzHu",
        "colab_type": "text"
      },
      "source": [
        "<font color='red'> **Q 7** </font> : **Given a 1D array**\n",
        "\n",
        "\n",
        "> x = torch.arange(0, 10)\n",
        "\n",
        "**negate all elements which are between 3 and 8, in place.**"
      ]
    },
    {
      "cell_type": "code",
      "metadata": {
        "id": "sGqDbrE5fhPH",
        "colab_type": "code",
        "outputId": "b0b07835-e759-4b09-fa9b-4ca3ec0e6c3e",
        "colab": {
          "base_uri": "https://localhost:8080/",
          "height": 34
        }
      },
      "source": [
        "x = torch.arange(0, 10)\n",
        "x[(3 < x) & (x <= 8)] *= -1\n",
        "x"
      ],
      "execution_count": 0,
      "outputs": [
        {
          "output_type": "execute_result",
          "data": {
            "text/plain": [
              "tensor([ 0,  1,  2,  3, -4, -5, -6, -7, -8,  9])"
            ]
          },
          "metadata": {
            "tags": []
          },
          "execution_count": 18
        }
      ]
    },
    {
      "cell_type": "markdown",
      "metadata": {
        "id": "VgEN-J9hdzK9",
        "colab_type": "text"
      },
      "source": [
        "<font color='red'> **Q 8** </font> : **Create a random vector of size 10 and sort it**"
      ]
    },
    {
      "cell_type": "code",
      "metadata": {
        "id": "PIpQzChxgiEu",
        "colab_type": "code",
        "outputId": "ab6c871f-af7d-427f-92ce-9ffcaeae2ca4",
        "colab": {
          "base_uri": "https://localhost:8080/",
          "height": 85
        }
      },
      "source": [
        "Z = torch.rand(10)\n",
        "sort = Z.sort()\n",
        "print(sort)"
      ],
      "execution_count": 0,
      "outputs": [
        {
          "output_type": "stream",
          "text": [
            "torch.return_types.sort(\n",
            "values=tensor([0.1831, 0.3548, 0.4489, 0.5579, 0.5699, 0.6755, 0.7212, 0.8219, 0.8316,\n",
            "        0.9697]),\n",
            "indices=tensor([7, 0, 6, 5, 4, 1, 9, 2, 3, 8]))\n"
          ],
          "name": "stdout"
        }
      ]
    },
    {
      "cell_type": "markdown",
      "metadata": {
        "id": "HR_0C4ltdzOE",
        "colab_type": "text"
      },
      "source": [
        "<font color='red'> **Q 9** </font> :**Create random vector of size 10 and replace the maximum value by 0**\n",
        "\n"
      ]
    },
    {
      "cell_type": "code",
      "metadata": {
        "id": "QROLLVluhGV7",
        "colab_type": "code",
        "outputId": "82424624-a150-4d5b-95d9-ca3dfcc36ae4",
        "colab": {
          "base_uri": "https://localhost:8080/",
          "height": 51
        }
      },
      "source": [
        "Z = torch.rand(10)\n",
        "Z[Z.argmax()] = 0\n",
        "print(Z)"
      ],
      "execution_count": 0,
      "outputs": [
        {
          "output_type": "stream",
          "text": [
            "tensor([0.4725, 0.0000, 0.5736, 0.2089, 0.6754, 0.8530, 0.3945, 0.0621, 0.8114,\n",
            "        0.6403])\n"
          ],
          "name": "stdout"
        }
      ]
    },
    {
      "cell_type": "markdown",
      "metadata": {
        "id": "zozYJ1Y4d2Au",
        "colab_type": "text"
      },
      "source": [
        "<font color='red'> **Q 10** </font> : **Given the following tensors**\n",
        "\n",
        "\n",
        "> x = torch.rand(100, 4)\n",
        "\n",
        "> w = torch.rand(8, 4)\n",
        "\n",
        "> b = torch.rand(8)\n",
        "\n",
        "**compute**:\n",
        "> y = w * x + b \n",
        "\n",
        "\n"
      ]
    },
    {
      "cell_type": "code",
      "metadata": {
        "id": "952NMnJjkCpe",
        "colab_type": "code",
        "outputId": "03569add-575e-4c14-b7b1-a220dce0a7f5",
        "colab": {
          "base_uri": "https://localhost:8080/",
          "height": 35
        }
      },
      "source": [
        "x = torch.rand(10, 4)\n",
        "w = torch.rand(4, 8)\n",
        "b = torch.rand(8)\n",
        "z = torch.mm(x, w) + b\n",
        "print(z.shape)"
      ],
      "execution_count": 0,
      "outputs": [
        {
          "output_type": "stream",
          "text": [
            "torch.Size([10, 8])\n"
          ],
          "name": "stdout"
        }
      ]
    },
    {
      "cell_type": "markdown",
      "metadata": {
        "id": "ipxMMAW3lk5D",
        "colab_type": "text"
      },
      "source": [
        "## Autograd:\n",
        "\n",
        "Pytorch provides automatic differentiation for all operations on Tensors. Create a tensor and set requires_grad=True to track gradients"
      ]
    },
    {
      "cell_type": "code",
      "metadata": {
        "id": "A389S2pOlvJR",
        "colab_type": "code",
        "outputId": "3c8ae434-9881-4a15-bfab-86cfd94e7a30",
        "colab": {
          "base_uri": "https://localhost:8080/",
          "height": 34
        }
      },
      "source": [
        "x = torch.ones(1, requires_grad=True)\n",
        "print(x)"
      ],
      "execution_count": 0,
      "outputs": [
        {
          "output_type": "stream",
          "text": [
            "tensor([1.], requires_grad=True)\n"
          ],
          "name": "stdout"
        }
      ]
    },
    {
      "cell_type": "markdown",
      "metadata": {
        "id": "GlW9G4UtmMgN",
        "colab_type": "text"
      },
      "source": [
        "Do a tensor operation:"
      ]
    },
    {
      "cell_type": "code",
      "metadata": {
        "id": "SJvaRfSamA_9",
        "colab_type": "code",
        "outputId": "8d9be0b5-f6ff-4794-beff-1f222eb9c45a",
        "colab": {
          "base_uri": "https://localhost:8080/",
          "height": 34
        }
      },
      "source": [
        "y = x**3\n",
        "print(y)"
      ],
      "execution_count": 0,
      "outputs": [
        {
          "output_type": "stream",
          "text": [
            "tensor([1.], grad_fn=<PowBackward0>)\n"
          ],
          "name": "stdout"
        }
      ]
    },
    {
      "cell_type": "markdown",
      "metadata": {
        "id": "gCA9EkKtmJQe",
        "colab_type": "text"
      },
      "source": [
        "Let's compute the gradient of y with respect to x"
      ]
    },
    {
      "cell_type": "code",
      "metadata": {
        "id": "PHyrYz8JmIwc",
        "colab_type": "code",
        "outputId": "4e7631c7-f1ee-4ec1-bd34-e92e31253b27",
        "colab": {
          "base_uri": "https://localhost:8080/",
          "height": 34
        }
      },
      "source": [
        "y.backward()\n",
        "print(x.grad)"
      ],
      "execution_count": 0,
      "outputs": [
        {
          "output_type": "stream",
          "text": [
            "tensor([3.])\n"
          ],
          "name": "stdout"
        }
      ]
    },
    {
      "cell_type": "markdown",
      "metadata": {
        "id": "6zIOJfeLd2Dm",
        "colab_type": "text"
      },
      "source": [
        "<font color='red'> **Q 11** </font> : **Given the following variables**\n",
        "\n",
        "> x = 1.\n",
        "\n",
        "> w = 2.\n",
        "\n",
        "> b = 3.\n",
        "\n",
        "**compute the gradients  of z = w * x + b with respect to x, w and b.** "
      ]
    },
    {
      "cell_type": "code",
      "metadata": {
        "id": "_tn0Hnx7nP0K",
        "colab_type": "code",
        "outputId": "c7a3bd61-8996-4f15-f96c-5b1cdd678439",
        "colab": {
          "base_uri": "https://localhost:8080/",
          "height": 68
        }
      },
      "source": [
        "x = torch.tensor(1., requires_grad=True)\n",
        "w = torch.tensor(2., requires_grad=True)\n",
        "b = torch.tensor(3., requires_grad=True)\n",
        "z = x * w + b\n",
        "z.backward()\n",
        "\n",
        "print(x.grad)   \n",
        "print(w.grad)    \n",
        "print(b.grad)    "
      ],
      "execution_count": 0,
      "outputs": [
        {
          "output_type": "stream",
          "text": [
            "tensor(2.)\n",
            "tensor(1.)\n",
            "tensor(1.)\n"
          ],
          "name": "stdout"
        }
      ]
    },
    {
      "cell_type": "markdown",
      "metadata": {
        "id": "RPS0zxvzokUY",
        "colab_type": "text"
      },
      "source": [
        "##  Optimization\n",
        "\n",
        "torch.optim is a package implementing various optimization algorithms. It works like this\n",
        "\n",
        "\n",
        ">```\n",
        "for i in range(....):\n",
        "    optimizer.zero_grad()\n",
        "    get objective_function \n",
        "    objective_function.backward()\n",
        "    optimizer.step()\n",
        "```\n"
      ]
    },
    {
      "cell_type": "markdown",
      "metadata": {
        "id": "KnPU7jiRd2Nh",
        "colab_type": "text"
      },
      "source": [
        "<font color='red'> **Q 12** </font> :**Compute the minimum of** $f(x) = 2 x^2 - 4 x $"
      ]
    },
    {
      "cell_type": "code",
      "metadata": {
        "id": "X7CIiJM8qz9N",
        "colab_type": "code",
        "outputId": "5b0c8ffe-ccaf-45bb-93b3-82ba9f48db06",
        "colab": {
          "base_uri": "https://localhost:8080/",
          "height": 51
        }
      },
      "source": [
        "x = torch.rand(1, requires_grad=True)\n",
        "optimizer = torch.optim.SGD([x], lr=0.1)\n",
        "for i in range(200):\n",
        "    optimizer.zero_grad()\n",
        "    f = 2 * x**2 - 4 * x\n",
        "    f.backward()\n",
        "    optimizer.step()\n",
        "\n",
        "print(f)\n",
        "print(x)"
      ],
      "execution_count": 0,
      "outputs": [
        {
          "output_type": "stream",
          "text": [
            "tensor([-2.], grad_fn=<SubBackward0>)\n",
            "tensor([1.0000], requires_grad=True)\n"
          ],
          "name": "stdout"
        }
      ]
    },
    {
      "cell_type": "markdown",
      "metadata": {
        "id": "LHDX4xHgGnYP",
        "colab_type": "text"
      },
      "source": [
        "## Curve Fittiing"
      ]
    },
    {
      "cell_type": "markdown",
      "metadata": {
        "id": "iIVf6n0GGmXu",
        "colab_type": "text"
      },
      "source": [
        "Now we build a linea model for a toy dataset"
      ]
    },
    {
      "cell_type": "code",
      "metadata": {
        "id": "nTPTSXpxG6Kg",
        "colab_type": "code",
        "colab": {}
      },
      "source": [
        "x_train = torch.tensor([[3.2], [4.4], [5.5], [6.71], [6.93]])\n",
        "\n",
        "y_train = torch.tensor([[1.7], [2.1], [2.8], [3.19], [3.694]])"
      ],
      "execution_count": 0,
      "outputs": []
    },
    {
      "cell_type": "markdown",
      "metadata": {
        "id": "Gvne1s6N3gSo",
        "colab_type": "text"
      },
      "source": [
        "We fit a linear line $y = w x + b$ to the data points. \n",
        "\n"
      ]
    },
    {
      "cell_type": "code",
      "metadata": {
        "id": "GQJGynlQHCOI",
        "colab_type": "code",
        "colab": {}
      },
      "source": [
        "w = torch.rand([1, 1], requires_grad=True)\n",
        "b = torch.rand([1], requires_grad=True)"
      ],
      "execution_count": 0,
      "outputs": []
    },
    {
      "cell_type": "code",
      "metadata": {
        "id": "7bql1ubaG6NZ",
        "colab_type": "code",
        "outputId": "ece3d6e8-6a1a-4e93-bcb4-edb474cc1ca0",
        "colab": {
          "base_uri": "https://localhost:8080/",
          "height": 357
        }
      },
      "source": [
        "optimizer = torch.optim.SGD([w, b], lr=0.01)\n",
        "criterion = torch.nn.MSELoss() #  mean squared error\n",
        "for i in range(10):\n",
        "  optimizer.zero_grad()\n",
        "  outputs = torch.matmul(x_train, w) + b\n",
        "  loss = criterion(outputs, y_train)\n",
        "  loss.backward()\n",
        "  optimizer.step()\n",
        "  print('loss = ', loss.item())\n",
        "  print('----------')"
      ],
      "execution_count": 0,
      "outputs": [
        {
          "output_type": "stream",
          "text": [
            "loss =  2.5221025943756104\n",
            "----------\n",
            "loss =  0.37088707089424133\n",
            "----------\n",
            "loss =  0.07690443098545074\n",
            "----------\n",
            "loss =  0.036709558218717575\n",
            "----------\n",
            "loss =  0.03119436278939247\n",
            "----------\n",
            "loss =  0.030418135225772858\n",
            "----------\n",
            "loss =  0.03028954192996025\n",
            "----------\n",
            "loss =  0.030249496921896935\n",
            "----------\n",
            "loss =  0.03022160939872265\n",
            "----------\n",
            "loss =  0.03019547648727894\n",
            "----------\n"
          ],
          "name": "stdout"
        }
      ]
    },
    {
      "cell_type": "code",
      "metadata": {
        "id": "bKnp0evLKW95",
        "colab_type": "code",
        "outputId": "b3705a9c-3b57-4f7b-9228-bd20ab15c660",
        "colab": {
          "base_uri": "https://localhost:8080/",
          "height": 265
        }
      },
      "source": [
        "\n",
        "# Plot the graph\n",
        "predicted = outputs.detach().numpy()\n",
        "plt.plot(x_train.numpy(), y_train.numpy(), 'ro', label='Original data')\n",
        "plt.plot(x_train.numpy(), predicted, label='Fitted line')\n",
        "plt.legend()\n",
        "plt.show()"
      ],
      "execution_count": 0,
      "outputs": [
        {
          "output_type": "display_data",
          "data": {
            "image/png": "[encoded data removed]",
            "text/plain": [
              "<Figure size 432x288 with 1 Axes>"
            ]
          },
          "metadata": {
            "tags": []
          }
        }
      ]
    },
    {
      "cell_type": "markdown",
      "metadata": {
        "id": "ljFYcCMVKtrj",
        "colab_type": "text"
      },
      "source": [
        "## Datasets"
      ]
    },
    {
      "cell_type": "code",
      "metadata": {
        "id": "SA2LAI0DLTge",
        "colab_type": "code",
        "outputId": "8494d1c4-8b29-44b6-bbd5-c21567fb0d4e",
        "colab": {
          "base_uri": "https://localhost:8080/",
          "height": 275
        }
      },
      "source": [
        "train_dataset = torchvision.datasets.MNIST(root='./data/', train=True, transform=torchvision.transforms.ToTensor(), download=True)\n",
        "test_dataset = torchvision.datasets.MNIST(root='./data/', train=False, transform=torchvision.transforms.ToTensor(), download=True)"
      ],
      "execution_count": 0,
      "outputs": [
        {
          "output_type": "stream",
          "text": [
            "\r0it [00:00, ?it/s]"
          ],
          "name": "stderr"
        },
        {
          "output_type": "stream",
          "text": [
            "Downloading http://yann.lecun.com/exdb/mnist/train-images-idx3-ubyte.gz to ./data/MNIST/raw/train-images-idx3-ubyte.gz\n"
          ],
          "name": "stdout"
        },
        {
          "output_type": "stream",
          "text": [
            "9920512it [00:01, 8808492.12it/s]                            \n"
          ],
          "name": "stderr"
        },
        {
          "output_type": "stream",
          "text": [
            "Extracting ./data/MNIST/raw/train-images-idx3-ubyte.gz to ./data/MNIST/raw\n"
          ],
          "name": "stdout"
        },
        {
          "output_type": "stream",
          "text": [
            "  0%|          | 0/28881 [00:00<?, ?it/s]"
          ],
          "name": "stderr"
        },
        {
          "output_type": "stream",
          "text": [
            "Downloading http://yann.lecun.com/exdb/mnist/train-labels-idx1-ubyte.gz to ./data/MNIST/raw/train-labels-idx1-ubyte.gz\n"
          ],
          "name": "stdout"
        },
        {
          "output_type": "stream",
          "text": [
            "32768it [00:00, 135400.10it/s]           \n",
            "  0%|          | 0/1648877 [00:00<?, ?it/s]"
          ],
          "name": "stderr"
        },
        {
          "output_type": "stream",
          "text": [
            "Extracting ./data/MNIST/raw/train-labels-idx1-ubyte.gz to ./data/MNIST/raw\n",
            "Downloading http://yann.lecun.com/exdb/mnist/t10k-images-idx3-ubyte.gz to ./data/MNIST/raw/t10k-images-idx3-ubyte.gz\n"
          ],
          "name": "stdout"
        },
        {
          "output_type": "stream",
          "text": [
            "1654784it [00:00, 2217987.09it/s]                            \n",
            "0it [00:00, ?it/s]"
          ],
          "name": "stderr"
        },
        {
          "output_type": "stream",
          "text": [
            "Extracting ./data/MNIST/raw/t10k-images-idx3-ubyte.gz to ./data/MNIST/raw\n",
            "Downloading http://yann.lecun.com/exdb/mnist/t10k-labels-idx1-ubyte.gz to ./data/MNIST/raw/t10k-labels-idx1-ubyte.gz\n"
          ],
          "name": "stdout"
        },
        {
          "output_type": "stream",
          "text": [
            "8192it [00:00, 50882.21it/s]            \n"
          ],
          "name": "stderr"
        },
        {
          "output_type": "stream",
          "text": [
            "Extracting ./data/MNIST/raw/t10k-labels-idx1-ubyte.gz to ./data/MNIST/raw\n",
            "Processing...\n",
            "Done!\n"
          ],
          "name": "stdout"
        }
      ]
    },
    {
      "cell_type": "code",
      "metadata": {
        "id": "IT3FUMYYLwLN",
        "colab_type": "code",
        "outputId": "18b91473-28ad-4efa-c25f-8969b3ee7623",
        "colab": {
          "base_uri": "https://localhost:8080/",
          "height": 51
        }
      },
      "source": [
        "image, label = train_dataset[0]\n",
        "print (image.size())\n",
        "print (label)"
      ],
      "execution_count": 0,
      "outputs": [
        {
          "output_type": "stream",
          "text": [
            "torch.Size([1, 28, 28])\n",
            "5\n"
          ],
          "name": "stdout"
        }
      ]
    },
    {
      "cell_type": "code",
      "metadata": {
        "id": "p8_YOOaILwOw",
        "colab_type": "code",
        "outputId": "cb68b0ae-af09-45e0-9ffc-22892a3cbcb8",
        "colab": {
          "base_uri": "https://localhost:8080/",
          "height": 265
        }
      },
      "source": [
        "plt.imshow(image[0].numpy(), cmap='gray')\n",
        "plt.show()"
      ],
      "execution_count": 0,
      "outputs": [
        {
          "output_type": "display_data",
          "data": {
            "image/png": "[encoded data removed]",
            "text/plain": [
              "<Figure size 432x288 with 1 Axes>"
            ]
          },
          "metadata": {
            "tags": []
          }
        }
      ]
    },
    {
      "cell_type": "code",
      "metadata": {
        "id": "TgMkB-S5NUlY",
        "colab_type": "code",
        "colab": {}
      },
      "source": [
        "train_loader = torch.utils.data.DataLoader(dataset=train_dataset, batch_size=64, shuffle=True)\n",
        "# Actual usage of the data loader is as below.\n",
        "for images, labels in train_loader:\n",
        "    # Training code should be written here.\n",
        "    pass"
      ],
      "execution_count": 0,
      "outputs": []
    },
    {
      "cell_type": "markdown",
      "metadata": {
        "id": "syF6-24Xd2QS",
        "colab_type": "text"
      },
      "source": [
        "<font color='red'> **Q 13** </font> : **Build a linear classifier on GPU for MNIST and compute its accuracy.**"
      ]
    },
    {
      "cell_type": "code",
      "metadata": {
        "id": "xlgi8ok6cqcC",
        "colab_type": "code",
        "colab": {}
      },
      "source": [
        "w = torch.rand([28*28, 10], requires_grad=True, device='cuda')\n",
        "b = torch.zeros([10], requires_grad=True, device='cuda')\n",
        "train_loader = torch.utils.data.DataLoader(dataset=train_dataset, batch_size=64, shuffle=True)\n",
        "test_loader = torch.utils.data.DataLoader(dataset=test_dataset, batch_size=64)\n"
      ],
      "execution_count": 0,
      "outputs": []
    },
    {
      "cell_type": "code",
      "metadata": {
        "id": "BwwqL5jBNHNF",
        "colab_type": "code",
        "outputId": "900852d6-5a12-492c-84e8-a65e48eba005",
        "colab": {
          "base_uri": "https://localhost:8080/",
          "height": 1000
        }
      },
      "source": [
        "optimizer = torch.optim.SGD([w, b], lr=0.05)\n",
        "criterion = torch.nn.CrossEntropyLoss()\n",
        "epochs = 20\n",
        "for epoch in range(epochs):\n",
        "  total_loss = 0.0\n",
        "  for images, labels in train_loader:\n",
        "      images = images.to('cuda')\n",
        "      labels = labels.to('cuda')\n",
        "      optimizer.zero_grad()\n",
        "      outputs = torch.matmul(images.view(-1, 28*28), w) + b\n",
        "      loss = criterion(outputs, labels)\n",
        "      loss.backward()\n",
        "      optimizer.step()\n",
        "      total_loss += loss.item()\n",
        "\n",
        "  print('epoch = {}, loss = {} '.format(epoch, total_loss/len(train_loader)))\n",
        "  correct = 0\n",
        "  total = 0\n",
        "  with torch.no_grad():\n",
        "      for images, labels in test_loader:\n",
        "          images = images.to('cuda')\n",
        "          labels = labels.to('cuda')\n",
        "          outputs = torch.matmul(images.view(-1, 28*28), w) + b\n",
        "          _, pred = torch.max(outputs.data, 1)\n",
        "          total += labels.size(0)\n",
        "          correct += (pred == labels).sum().item()\n",
        "\n",
        "  print('Accuracy of the network on the 10000 test images: %d %%' % (\n",
        "      100 * correct / total))\n",
        "  print('------------------------------------------------------------')"
      ],
      "execution_count": 0,
      "outputs": [
        {
          "output_type": "stream",
          "text": [
            "epoch = 0, loss = 0.8003926062062859 \n",
            "Accuracy of the network on the 10000 test images: 85 %\n",
            "------------------------------------------------------------\n",
            "epoch = 1, loss = 0.44161925730166407 \n",
            "Accuracy of the network on the 10000 test images: 88 %\n",
            "------------------------------------------------------------\n",
            "epoch = 2, loss = 0.3915006929813926 \n",
            "Accuracy of the network on the 10000 test images: 89 %\n",
            "------------------------------------------------------------\n",
            "epoch = 3, loss = 0.36599346838081315 \n",
            "Accuracy of the network on the 10000 test images: 90 %\n",
            "------------------------------------------------------------\n",
            "epoch = 4, loss = 0.3498116826960273 \n",
            "Accuracy of the network on the 10000 test images: 90 %\n",
            "------------------------------------------------------------\n",
            "epoch = 5, loss = 0.3380204312709857 \n",
            "Accuracy of the network on the 10000 test images: 90 %\n",
            "------------------------------------------------------------\n",
            "epoch = 6, loss = 0.3291986277108508 \n",
            "Accuracy of the network on the 10000 test images: 90 %\n",
            "------------------------------------------------------------\n",
            "epoch = 7, loss = 0.3222842386790684 \n",
            "Accuracy of the network on the 10000 test images: 91 %\n",
            "------------------------------------------------------------\n",
            "epoch = 8, loss = 0.31623125354300685 \n",
            "Accuracy of the network on the 10000 test images: 91 %\n",
            "------------------------------------------------------------\n",
            "epoch = 9, loss = 0.31112395525614084 \n",
            "Accuracy of the network on the 10000 test images: 91 %\n",
            "------------------------------------------------------------\n",
            "epoch = 10, loss = 0.3073430912199813 \n",
            "Accuracy of the network on the 10000 test images: 91 %\n",
            "------------------------------------------------------------\n",
            "epoch = 11, loss = 0.3037933273070148 \n",
            "Accuracy of the network on the 10000 test images: 91 %\n",
            "------------------------------------------------------------\n",
            "epoch = 12, loss = 0.3002118211882963 \n",
            "Accuracy of the network on the 10000 test images: 91 %\n",
            "------------------------------------------------------------\n",
            "epoch = 13, loss = 0.2975540275512728 \n",
            "Accuracy of the network on the 10000 test images: 91 %\n",
            "------------------------------------------------------------\n",
            "epoch = 14, loss = 0.29476376004946003 \n",
            "Accuracy of the network on the 10000 test images: 91 %\n",
            "------------------------------------------------------------\n",
            "epoch = 15, loss = 0.2928541063277452 \n",
            "Accuracy of the network on the 10000 test images: 91 %\n",
            "------------------------------------------------------------\n",
            "epoch = 16, loss = 0.29021484909980283 \n",
            "Accuracy of the network on the 10000 test images: 91 %\n",
            "------------------------------------------------------------\n",
            "epoch = 17, loss = 0.28837432035568683 \n",
            "Accuracy of the network on the 10000 test images: 91 %\n",
            "------------------------------------------------------------\n",
            "epoch = 18, loss = 0.28645171717540036 \n",
            "Accuracy of the network on the 10000 test images: 91 %\n",
            "------------------------------------------------------------\n",
            "epoch = 19, loss = 0.2851759661425914 \n",
            "Accuracy of the network on the 10000 test images: 92 %\n",
            "------------------------------------------------------------\n"
          ],
          "name": "stdout"
        }
      ]
    },
    {
      "cell_type": "code",
      "metadata": {
        "id": "LjAKINk7ON8o",
        "colab_type": "code",
        "colab": {}
      },
      "source": [
        ""
      ],
      "execution_count": 0,
      "outputs": []
    }
  ]
}