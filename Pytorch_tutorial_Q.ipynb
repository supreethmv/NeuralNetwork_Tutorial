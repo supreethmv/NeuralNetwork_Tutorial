{
  "nbformat": 4,
  "nbformat_minor": 0,
  "metadata": {
    "colab": {
      "name": "Pytorch_tutorial_Q",
      "provenance": [],
      "collapsed_sections": [
        "d4dDwcWG5iva",
        "Fz3ZdpwI51VT",
        "1Fz_PSs05q4C",
        "ipxMMAW3lk5D",
        "RPS0zxvzokUY",
        "LHDX4xHgGnYP",
        "ljFYcCMVKtrj"
      ]
    },
    "kernelspec": {
      "name": "python3",
      "display_name": "Python 3"
    },
    "accelerator": "GPU"
  },
  "cells": [
    {
      "cell_type": "markdown",
      "metadata": {
        "id": "d4dDwcWG5iva",
        "colab_type": "text"
      },
      "source": [
        "## Reference\n",
        "\n",
        "\n"
      ]
    },
    {
      "cell_type": "markdown",
      "metadata": {
        "id": "03pTpAzbE93T",
        "colab_type": "text"
      },
      "source": [
        "*   [1](https://pytorch.org/tutorials/beginner/blitz/tensor_tutorial.html#sphx-glr-beginner-blitz-tensor-tutorial-py)\n",
        "\n",
        "\n",
        "*   [2](http://deeplearning.cs.cmu.edu/)\n",
        "\n",
        "* [3](https://github.com/rougier/numpy-100/blob/master/100_Numpy_exercises.md)\n",
        "\n",
        "\n",
        "*  [4](https://github.com/yunjey/pytorch-tutorial)\n",
        "\n"
      ]
    },
    {
      "cell_type": "markdown",
      "metadata": {
        "id": "Fz3ZdpwI51VT",
        "colab_type": "text"
      },
      "source": [
        "## Imports"
      ]
    },
    {
      "cell_type": "code",
      "metadata": {
        "id": "xnNzDSxG55Jd",
        "colab_type": "code",
        "colab": {}
      },
      "source": [
        "import numpy as np\n",
        "import torch\n",
        "import torchvision\n",
        "import matplotlib.pyplot as plt"
      ],
      "execution_count": 0,
      "outputs": []
    },
    {
      "cell_type": "markdown",
      "metadata": {
        "id": "1Fz_PSs05q4C",
        "colab_type": "text"
      },
      "source": [
        "## Tensors"
      ]
    },
    {
      "cell_type": "markdown",
      "metadata": {
        "id": "snXsw3yS6nkW",
        "colab_type": "text"
      },
      "source": [
        "Constructing a tensor directly from data:"
      ]
    },
    {
      "cell_type": "code",
      "metadata": {
        "id": "tsRmOkfC6qI3",
        "colab_type": "code",
        "colab": {}
      },
      "source": [
        "x = torch.tensor([1, 2, 3, 4])"
      ],
      "execution_count": 0,
      "outputs": []
    },
    {
      "cell_type": "markdown",
      "metadata": {
        "id": "xX4RS8jL7Fbq",
        "colab_type": "text"
      },
      "source": [
        "We may check the data type, shape and device of tensor as follows:"
      ]
    },
    {
      "cell_type": "code",
      "metadata": {
        "id": "lh48hiIt65iP",
        "colab_type": "code",
        "outputId": "caba1a22-014c-46b8-ff56-0c7000ee6175",
        "colab": {
          "base_uri": "https://localhost:8080/",
          "height": 84
        }
      },
      "source": [
        "print('dtyep = ', x.dtype)\n",
        "print('shape = ', x.shape)\n",
        "print('shape = ',  x.size())\n",
        "print('device = ', x.device)"
      ],
      "execution_count": 0,
      "outputs": [
        {
          "output_type": "stream",
          "text": [
            "dtyep =  torch.int64\n",
            "shape =  torch.Size([4])\n",
            "shape =  torch.Size([4])\n",
            "device =  cpu\n"
          ],
          "name": "stdout"
        }
      ]
    },
    {
      "cell_type": "markdown",
      "metadata": {
        "id": "3JPpwcgT77wb",
        "colab_type": "text"
      },
      "source": [
        "Let's change the dtype of tensors to float32:\n",
        "\n"
      ]
    },
    {
      "cell_type": "code",
      "metadata": {
        "id": "Sj2yzrzN7b7q",
        "colab_type": "code",
        "outputId": "e623f2be-9677-403d-dcd6-6fd2bcf58edc",
        "colab": {
          "base_uri": "https://localhost:8080/",
          "height": 35
        }
      },
      "source": [
        "x = x.to(torch.float32)\n",
        "print(x.dtype)"
      ],
      "execution_count": 0,
      "outputs": [
        {
          "output_type": "stream",
          "text": [
            "torch.float32\n"
          ],
          "name": "stdout"
        }
      ]
    },
    {
      "cell_type": "markdown",
      "metadata": {
        "id": "M_0iO36r8XUs",
        "colab_type": "text"
      },
      "source": [
        "Let's put the tensor on GPU. We first check whether the GPU is availabel"
      ]
    },
    {
      "cell_type": "code",
      "metadata": {
        "id": "Jf8IRATR8Wv7",
        "colab_type": "code",
        "outputId": "8a01a678-37c0-4d05-8df3-8d5a80ab4313",
        "colab": {
          "base_uri": "https://localhost:8080/",
          "height": 35
        }
      },
      "source": [
        "print(torch.cuda.is_available())"
      ],
      "execution_count": 0,
      "outputs": [
        {
          "output_type": "stream",
          "text": [
            "True\n"
          ],
          "name": "stdout"
        }
      ]
    },
    {
      "cell_type": "code",
      "metadata": {
        "id": "DqXnCdPM8K_d",
        "colab_type": "code",
        "outputId": "f3bd2469-df76-4ee7-fb06-98bc73c9ba01",
        "colab": {
          "base_uri": "https://localhost:8080/",
          "height": 35
        }
      },
      "source": [
        "x = x.to('cuda')\n",
        "print('device = ', x.device)"
      ],
      "execution_count": 0,
      "outputs": [
        {
          "output_type": "stream",
          "text": [
            "device =  cuda:0\n"
          ],
          "name": "stdout"
        }
      ]
    },
    {
      "cell_type": "markdown",
      "metadata": {
        "id": "wiLKI3Fd9O7K",
        "colab_type": "text"
      },
      "source": [
        "<font color='red'> **Q 1** </font> :  **Put x back on CPU and change its dtype to int16**.\n",
        "\n",
        "\n",
        "\n"
      ]
    },
    {
      "cell_type": "code",
      "metadata": {
        "id": "K3wN7YYYgllr",
        "colab_type": "code",
        "colab": {}
      },
      "source": [
        ""
      ],
      "execution_count": 0,
      "outputs": []
    },
    {
      "cell_type": "markdown",
      "metadata": {
        "id": "jLtHAc8q_VUZ",
        "colab_type": "text"
      },
      "source": [
        "<font color='red'> **Q 2** </font> : **Convert x to a numpy array.**\n",
        "\n"
      ]
    },
    {
      "cell_type": "code",
      "metadata": {
        "id": "BtSqerqXgm7F",
        "colab_type": "code",
        "colab": {}
      },
      "source": [
        ""
      ],
      "execution_count": 0,
      "outputs": []
    },
    {
      "cell_type": "markdown",
      "metadata": {
        "id": "AofFQV4xAeV6",
        "colab_type": "text"
      },
      "source": [
        "We can change the shape of tensors as follows:"
      ]
    },
    {
      "cell_type": "code",
      "metadata": {
        "id": "ixTqLh4p_hCn",
        "colab_type": "code",
        "outputId": "40fd1c18-3231-448f-f157-6498a4a6c3cb",
        "colab": {
          "base_uri": "https://localhost:8080/",
          "height": 54
        }
      },
      "source": [
        "x = x.view([2, 2])\n",
        "print(x)"
      ],
      "execution_count": 0,
      "outputs": [
        {
          "output_type": "stream",
          "text": [
            "tensor([[1., 2.],\n",
            "        [3., 4.]], device='cuda:0')\n"
          ],
          "name": "stdout"
        }
      ]
    },
    {
      "cell_type": "markdown",
      "metadata": {
        "id": "8H7xlXBjA2EL",
        "colab_type": "text"
      },
      "source": [
        "Now x is a $2\\times2$  tensor."
      ]
    },
    {
      "cell_type": "markdown",
      "metadata": {
        "id": "qJs93PQHBbDI",
        "colab_type": "text"
      },
      "source": [
        "We may also use creation operators to define and initialize tensors:"
      ]
    },
    {
      "cell_type": "code",
      "metadata": {
        "id": "7HryfvWIAsPS",
        "colab_type": "code",
        "outputId": "4e7334fe-5dbb-4b61-a5da-36f32cf0d340",
        "colab": {
          "base_uri": "https://localhost:8080/",
          "height": 54
        }
      },
      "source": [
        "torch.zeros(2, 3) "
      ],
      "execution_count": 0,
      "outputs": [
        {
          "output_type": "execute_result",
          "data": {
            "text/plain": [
              "tensor([[0., 0., 0.],\n",
              "        [0., 0., 0.]])"
            ]
          },
          "metadata": {
            "tags": []
          },
          "execution_count": 15
        }
      ]
    },
    {
      "cell_type": "code",
      "metadata": {
        "id": "mPTkyPP-CroQ",
        "colab_type": "code",
        "outputId": "5446776d-54e2-473b-cbe1-512ccd9aeb91",
        "colab": {
          "base_uri": "https://localhost:8080/",
          "height": 54
        }
      },
      "source": [
        "torch.ones(2, 2)"
      ],
      "execution_count": 0,
      "outputs": [
        {
          "output_type": "execute_result",
          "data": {
            "text/plain": [
              "tensor([[1., 1.],\n",
              "        [1., 1.]])"
            ]
          },
          "metadata": {
            "tags": []
          },
          "execution_count": 16
        }
      ]
    },
    {
      "cell_type": "code",
      "metadata": {
        "id": "Ny74HeS7Cpke",
        "colab_type": "code",
        "outputId": "6d3a4e00-7633-40fc-8e52-4914bb1ea46c",
        "colab": {
          "base_uri": "https://localhost:8080/",
          "height": 35
        }
      },
      "source": [
        "torch.arange(1, 4)"
      ],
      "execution_count": 0,
      "outputs": [
        {
          "output_type": "execute_result",
          "data": {
            "text/plain": [
              "tensor([1, 2, 3])"
            ]
          },
          "metadata": {
            "tags": []
          },
          "execution_count": 17
        }
      ]
    },
    {
      "cell_type": "code",
      "metadata": {
        "id": "TM_7ofrPCq-8",
        "colab_type": "code",
        "outputId": "3ad9d7b0-94d0-4974-e938-6d11b45f1874",
        "colab": {
          "base_uri": "https://localhost:8080/",
          "height": 72
        }
      },
      "source": [
        "torch.eye(3)"
      ],
      "execution_count": 0,
      "outputs": [
        {
          "output_type": "execute_result",
          "data": {
            "text/plain": [
              "tensor([[1., 0., 0.],\n",
              "        [0., 1., 0.],\n",
              "        [0., 0., 1.]])"
            ]
          },
          "metadata": {
            "tags": []
          },
          "execution_count": 18
        }
      ]
    },
    {
      "cell_type": "code",
      "metadata": {
        "id": "ADmX3j_8CzvS",
        "colab_type": "code",
        "outputId": "0302dcd4-f8e8-47e1-8d5a-9075951ca204",
        "colab": {
          "base_uri": "https://localhost:8080/",
          "height": 54
        }
      },
      "source": [
        "torch.randn(2, 3)"
      ],
      "execution_count": 0,
      "outputs": [
        {
          "output_type": "execute_result",
          "data": {
            "text/plain": [
              "tensor([[-0.6999,  1.3678, -0.8738],\n",
              "        [-0.4393,  0.7012, -0.8539]])"
            ]
          },
          "metadata": {
            "tags": []
          },
          "execution_count": 19
        }
      ]
    },
    {
      "cell_type": "markdown",
      "metadata": {
        "id": "rKGByvfVDNsr",
        "colab_type": "text"
      },
      "source": [
        "<font color='red'> **Q 3** </font> : **Initialize x and y cuda tensors with shape [4, 3] and [2, 6] according to uniform distribution on the interva [0, 1). Reshape y according to x's shape.**\n",
        "\n",
        "\n",
        "\n"
      ]
    },
    {
      "cell_type": "code",
      "metadata": {
        "id": "z7N7b16ZDMtV",
        "colab_type": "code",
        "colab": {}
      },
      "source": [
        ""
      ],
      "execution_count": 0,
      "outputs": []
    },
    {
      "cell_type": "markdown",
      "metadata": {
        "id": "O8mwgM3IErkI",
        "colab_type": "text"
      },
      "source": [
        " ***Operations on tensors.***"
      ]
    },
    {
      "cell_type": "markdown",
      "metadata": {
        "id": "EFFYEQwAFAKx",
        "colab_type": "text"
      },
      "source": [
        "<font color='red'> **Q 4** </font> : **Create two tensors x, y with  random integer in the range=[0, 10) and size=10000. How much percent of their elements are equvalent?**"
      ]
    },
    {
      "cell_type": "code",
      "metadata": {
        "id": "_3OprMOCbj7N",
        "colab_type": "code",
        "colab": {}
      },
      "source": [
        ""
      ],
      "execution_count": 0,
      "outputs": []
    },
    {
      "cell_type": "markdown",
      "metadata": {
        "id": "SZkDggJIdRv2",
        "colab_type": "text"
      },
      "source": [
        "<font color='red'> **Q 5** </font> : **Normalize a random vector with size=10 ?**\n"
      ]
    },
    {
      "cell_type": "code",
      "metadata": {
        "id": "f4Vy4yyqeIgb",
        "colab_type": "code",
        "colab": {}
      },
      "source": [
        ""
      ],
      "execution_count": 0,
      "outputs": []
    },
    {
      "cell_type": "markdown",
      "metadata": {
        "id": "VnN4PDqLdRzA",
        "colab_type": "text"
      },
      "source": [
        "<font color='red'> **Q 6** </font> :**Multiply a 5x3 matrix by a 3x2 matrix.**\n"
      ]
    },
    {
      "cell_type": "code",
      "metadata": {
        "id": "sg_t6paofKCD",
        "colab_type": "code",
        "colab": {}
      },
      "source": [
        ""
      ],
      "execution_count": 0,
      "outputs": []
    },
    {
      "cell_type": "markdown",
      "metadata": {
        "id": "LUaycIj-dzHu",
        "colab_type": "text"
      },
      "source": [
        "<font color='red'> **Q 7** </font> : **Given a 1D array**\n",
        "\n",
        "\n",
        "> x = torch.arange(0, 10)\n",
        "\n",
        "**negate all elements which are between 3 and 8, in place.**"
      ]
    },
    {
      "cell_type": "code",
      "metadata": {
        "id": "sGqDbrE5fhPH",
        "colab_type": "code",
        "outputId": "7494dd6f-b4c8-4681-ebca-3331198b6cc0",
        "colab": {
          "base_uri": "https://localhost:8080/",
          "height": 132
        }
      },
      "source": [
        "x = torch.arange(0, 10)\n",
        "x[(3 < x) & (x < 8)] *= -1"
      ],
      "execution_count": 0,
      "outputs": [
        {
          "output_type": "error",
          "ename": "SyntaxError",
          "evalue": "ignored",
          "traceback": [
            "\u001b[0;36m  File \u001b[0;32m\"<ipython-input-6-725c106cfba9>\"\u001b[0;36m, line \u001b[0;32m2\u001b[0m\n\u001b[0;31m    x[(3 < x) & (x < 8) *= -1\u001b[0m\n\u001b[0m                         ^\u001b[0m\n\u001b[0;31mSyntaxError\u001b[0m\u001b[0;31m:\u001b[0m invalid syntax\n"
          ]
        }
      ]
    },
    {
      "cell_type": "markdown",
      "metadata": {
        "id": "VgEN-J9hdzK9",
        "colab_type": "text"
      },
      "source": [
        "<font color='red'> **Q 8** </font> : **Create a random vector of size 10 and sort it**"
      ]
    },
    {
      "cell_type": "code",
      "metadata": {
        "id": "PIpQzChxgiEu",
        "colab_type": "code",
        "colab": {}
      },
      "source": [
        ""
      ],
      "execution_count": 0,
      "outputs": []
    },
    {
      "cell_type": "markdown",
      "metadata": {
        "id": "HR_0C4ltdzOE",
        "colab_type": "text"
      },
      "source": [
        "<font color='red'> **Q 9** </font> :**Create random vector of size 10 and replace the maximum value by 0**\n",
        "\n"
      ]
    },
    {
      "cell_type": "code",
      "metadata": {
        "id": "QROLLVluhGV7",
        "colab_type": "code",
        "colab": {}
      },
      "source": [
        ""
      ],
      "execution_count": 0,
      "outputs": []
    },
    {
      "cell_type": "markdown",
      "metadata": {
        "id": "zozYJ1Y4d2Au",
        "colab_type": "text"
      },
      "source": [
        "<font color='red'> **Q 10** </font> : **Given the following tensors**\n",
        "\n",
        "\n",
        "> x = torch.rand(100, 4)\n",
        "\n",
        "> w = torch.rand(8, 4)\n",
        "\n",
        "> b = torch.rand(8)\n",
        "\n",
        "**compute**:\n",
        "> y = w * x + b \n",
        "\n",
        "\n"
      ]
    },
    {
      "cell_type": "code",
      "metadata": {
        "id": "952NMnJjkCpe",
        "colab_type": "code",
        "colab": {}
      },
      "source": [
        ""
      ],
      "execution_count": 0,
      "outputs": []
    },
    {
      "cell_type": "markdown",
      "metadata": {
        "id": "ipxMMAW3lk5D",
        "colab_type": "text"
      },
      "source": [
        "## Autograd:\n",
        "\n",
        "Pytorch provides automatic differentiation for all operations on Tensors. Create a tensor and set requires_grad=True to track gradients"
      ]
    },
    {
      "cell_type": "code",
      "metadata": {
        "id": "A389S2pOlvJR",
        "colab_type": "code",
        "outputId": "6743a743-363c-483b-ee2a-cfc5939a200d",
        "colab": {
          "base_uri": "https://localhost:8080/",
          "height": 35
        }
      },
      "source": [
        "x = torch.ones(1, requires_grad=True)\n",
        "print(x)"
      ],
      "execution_count": 0,
      "outputs": [
        {
          "output_type": "stream",
          "text": [
            "tensor([1.], requires_grad=True)\n"
          ],
          "name": "stdout"
        }
      ]
    },
    {
      "cell_type": "markdown",
      "metadata": {
        "id": "GlW9G4UtmMgN",
        "colab_type": "text"
      },
      "source": [
        "Do a tensor operation:"
      ]
    },
    {
      "cell_type": "code",
      "metadata": {
        "id": "SJvaRfSamA_9",
        "colab_type": "code",
        "outputId": "793ea5c1-5142-4413-cce3-9c89d930a470",
        "colab": {
          "base_uri": "https://localhost:8080/",
          "height": 35
        }
      },
      "source": [
        "y = x**3\n",
        "print(y)"
      ],
      "execution_count": 0,
      "outputs": [
        {
          "output_type": "stream",
          "text": [
            "tensor([1.], grad_fn=<PowBackward0>)\n"
          ],
          "name": "stdout"
        }
      ]
    },
    {
      "cell_type": "markdown",
      "metadata": {
        "id": "gCA9EkKtmJQe",
        "colab_type": "text"
      },
      "source": [
        "Let's compute the gradient of y with respect to x"
      ]
    },
    {
      "cell_type": "code",
      "metadata": {
        "id": "PHyrYz8JmIwc",
        "colab_type": "code",
        "outputId": "e2e24785-e9b3-4386-a79b-489802ab1c8c",
        "colab": {
          "base_uri": "https://localhost:8080/",
          "height": 35
        }
      },
      "source": [
        "y.backward()\n",
        "print(x.grad)"
      ],
      "execution_count": 0,
      "outputs": [
        {
          "output_type": "stream",
          "text": [
            "tensor([3.])\n"
          ],
          "name": "stdout"
        }
      ]
    },
    {
      "cell_type": "markdown",
      "metadata": {
        "id": "6zIOJfeLd2Dm",
        "colab_type": "text"
      },
      "source": [
        "<font color='red'> **Q 11** </font> : **Given the following variables**\n",
        "\n",
        "> x = 1.\n",
        "\n",
        "> w = 2.\n",
        "\n",
        "> b = 3.\n",
        "\n",
        "**compute the gradients  of z = w * x + b with respect to x, w and b.** "
      ]
    },
    {
      "cell_type": "code",
      "metadata": {
        "id": "_tn0Hnx7nP0K",
        "colab_type": "code",
        "colab": {}
      },
      "source": [
        ""
      ],
      "execution_count": 0,
      "outputs": []
    },
    {
      "cell_type": "markdown",
      "metadata": {
        "id": "RPS0zxvzokUY",
        "colab_type": "text"
      },
      "source": [
        "##  Optimization\n",
        "\n",
        "torch.optim is a package implementing various optimization algorithms. It works like this\n",
        "\n",
        "\n",
        ">```\n",
        "for i in range(....):\n",
        "    optimizer.zero_grad()\n",
        "    get objective_function \n",
        "    objective_function.backward()\n",
        "    optimizer.step()\n",
        "```\n"
      ]
    },
    {
      "cell_type": "markdown",
      "metadata": {
        "id": "KnPU7jiRd2Nh",
        "colab_type": "text"
      },
      "source": [
        "<font color='red'> **Q 12** </font> :**Compute the minimum of** $f(x) = 2 x^2 - 4 x $"
      ]
    },
    {
      "cell_type": "code",
      "metadata": {
        "id": "X7CIiJM8qz9N",
        "colab_type": "code",
        "colab": {}
      },
      "source": [
        ""
      ],
      "execution_count": 0,
      "outputs": []
    },
    {
      "cell_type": "markdown",
      "metadata": {
        "id": "LHDX4xHgGnYP",
        "colab_type": "text"
      },
      "source": [
        "## Curve Fitting"
      ]
    },
    {
      "cell_type": "markdown",
      "metadata": {
        "id": "iIVf6n0GGmXu",
        "colab_type": "text"
      },
      "source": [
        "Now we build a linea model for a toy dataset"
      ]
    },
    {
      "cell_type": "code",
      "metadata": {
        "id": "nTPTSXpxG6Kg",
        "colab_type": "code",
        "colab": {}
      },
      "source": [
        "x_train = torch.tensor([[3.2], [4.4], [5.5], [6.71], [6.93]])\n",
        "\n",
        "y_train = torch.tensor([[1.7], [2.1], [2.8], [3.19], [3.694]])"
      ],
      "execution_count": 0,
      "outputs": []
    },
    {
      "cell_type": "markdown",
      "metadata": {
        "id": "7h7eLiR942sN",
        "colab_type": "text"
      },
      "source": [
        "We fit a linear line $y = w x + b$ to the data points. "
      ]
    },
    {
      "cell_type": "code",
      "metadata": {
        "id": "GQJGynlQHCOI",
        "colab_type": "code",
        "colab": {}
      },
      "source": [
        "w = torch.rand([1, 1], requires_grad=True)\n",
        "b = torch.rand([1], requires_grad=True)"
      ],
      "execution_count": 0,
      "outputs": []
    },
    {
      "cell_type": "code",
      "metadata": {
        "id": "7bql1ubaG6NZ",
        "colab_type": "code",
        "outputId": "5905ee91-be31-44d9-e8d4-37147583f3b9",
        "colab": {
          "base_uri": "https://localhost:8080/",
          "height": 384
        }
      },
      "source": [
        "optimizer = torch.optim.SGD([w, b], lr=0.01)\n",
        "criterion = torch.nn.MSELoss() #  mean squared error\n",
        "for i in range(10):\n",
        "  optimizer.zero_grad()\n",
        "  outputs = torch.matmul(x_train, w) + b\n",
        "  loss = criterion(outputs, y_train)\n",
        "  loss.backward()\n",
        "  optimizer.step()\n",
        "  print('loss = ', loss.item())\n",
        "  print('----------')"
      ],
      "execution_count": 0,
      "outputs": [
        {
          "output_type": "stream",
          "text": [
            "loss =  0.6675872802734375\n",
            "----------\n",
            "loss =  0.43829500675201416\n",
            "----------\n",
            "loss =  0.40726780891418457\n",
            "----------\n",
            "loss =  0.40294498205184937\n",
            "----------\n",
            "loss =  0.4022195041179657\n",
            "----------\n",
            "loss =  0.40197885036468506\n",
            "----------\n",
            "loss =  0.4018038213253021\n",
            "----------\n",
            "loss =  0.40163785219192505\n",
            "----------\n",
            "loss =  0.4014735817909241\n",
            "----------\n",
            "loss =  0.40130990743637085\n",
            "----------\n"
          ],
          "name": "stdout"
        }
      ]
    },
    {
      "cell_type": "code",
      "metadata": {
        "id": "bKnp0evLKW95",
        "colab_type": "code",
        "outputId": "16b6e6b9-274d-4ff0-9653-20a0c2d3c14a",
        "colab": {
          "base_uri": "https://localhost:8080/",
          "height": 269
        }
      },
      "source": [
        "# Plot the graph\n",
        "predicted = outputs.detach().numpy()\n",
        "plt.plot(x_train.numpy(), y_train.numpy(), 'ro', label='Original data')\n",
        "plt.plot(x_train.numpy(), predicted, label='Fitted line')\n",
        "plt.legend()\n",
        "plt.show()"
      ],
      "execution_count": 0,
      "outputs": [
        {
          "output_type": "display_data",
          "data": {
            "image/png": "[encoded data removed]",
            "text/plain": [
              "<Figure size 432x288 with 1 Axes>"
            ]
          },
          "metadata": {
            "tags": []
          }
        }
      ]
    },
    {
      "cell_type": "code",
      "metadata": {
        "id": "_w_YWuc1KtRL",
        "colab_type": "code",
        "colab": {}
      },
      "source": [
        ""
      ],
      "execution_count": 0,
      "outputs": []
    },
    {
      "cell_type": "markdown",
      "metadata": {
        "id": "ljFYcCMVKtrj",
        "colab_type": "text"
      },
      "source": [
        "## Datasets"
      ]
    },
    {
      "cell_type": "code",
      "metadata": {
        "id": "SA2LAI0DLTge",
        "colab_type": "code",
        "outputId": "e7b6dbe9-7abf-46e2-9460-b395dab50562",
        "colab": {
          "base_uri": "https://localhost:8080/",
          "height": 274
        }
      },
      "source": [
        "train_dataset = torchvision.datasets.MNIST(root='./data/', train=True, transform=torchvision.transforms.ToTensor(), download=True)\n",
        "test_dataset = torchvision.datasets.MNIST(root='./data/', train=False, transform=torchvision.transforms.ToTensor(), download=True)"
      ],
      "execution_count": 0,
      "outputs": [
        {
          "output_type": "stream",
          "text": [
            "\r0it [00:00, ?it/s]"
          ],
          "name": "stderr"
        },
        {
          "output_type": "stream",
          "text": [
            "Downloading http://yann.lecun.com/exdb/mnist/train-images-idx3-ubyte.gz to ./data/MNIST/raw/train-images-idx3-ubyte.gz\n"
          ],
          "name": "stdout"
        },
        {
          "output_type": "stream",
          "text": [
            "9920512it [00:01, 9011452.54it/s]                            \n"
          ],
          "name": "stderr"
        },
        {
          "output_type": "stream",
          "text": [
            "Extracting ./data/MNIST/raw/train-images-idx3-ubyte.gz to ./data/MNIST/raw\n"
          ],
          "name": "stdout"
        },
        {
          "output_type": "stream",
          "text": [
            "  0%|          | 0/28881 [00:00<?, ?it/s]"
          ],
          "name": "stderr"
        },
        {
          "output_type": "stream",
          "text": [
            "Downloading http://yann.lecun.com/exdb/mnist/train-labels-idx1-ubyte.gz to ./data/MNIST/raw/train-labels-idx1-ubyte.gz\n"
          ],
          "name": "stdout"
        },
        {
          "output_type": "stream",
          "text": [
            "32768it [00:00, 138787.97it/s]           \n",
            "  0%|          | 0/1648877 [00:00<?, ?it/s]"
          ],
          "name": "stderr"
        },
        {
          "output_type": "stream",
          "text": [
            "Extracting ./data/MNIST/raw/train-labels-idx1-ubyte.gz to ./data/MNIST/raw\n",
            "Downloading http://yann.lecun.com/exdb/mnist/t10k-images-idx3-ubyte.gz to ./data/MNIST/raw/t10k-images-idx3-ubyte.gz\n"
          ],
          "name": "stdout"
        },
        {
          "output_type": "stream",
          "text": [
            "1654784it [00:00, 2199256.68it/s]                            \n",
            "0it [00:00, ?it/s]"
          ],
          "name": "stderr"
        },
        {
          "output_type": "stream",
          "text": [
            "Extracting ./data/MNIST/raw/t10k-images-idx3-ubyte.gz to ./data/MNIST/raw\n",
            "Downloading http://yann.lecun.com/exdb/mnist/t10k-labels-idx1-ubyte.gz to ./data/MNIST/raw/t10k-labels-idx1-ubyte.gz\n"
          ],
          "name": "stdout"
        },
        {
          "output_type": "stream",
          "text": [
            "8192it [00:00, 51248.92it/s]            \n"
          ],
          "name": "stderr"
        },
        {
          "output_type": "stream",
          "text": [
            "Extracting ./data/MNIST/raw/t10k-labels-idx1-ubyte.gz to ./data/MNIST/raw\n",
            "Processing...\n",
            "Done!\n"
          ],
          "name": "stdout"
        }
      ]
    },
    {
      "cell_type": "code",
      "metadata": {
        "id": "IT3FUMYYLwLN",
        "colab_type": "code",
        "outputId": "3af251f5-dce0-42fd-cb01-4284ca598118",
        "colab": {
          "base_uri": "https://localhost:8080/",
          "height": 54
        }
      },
      "source": [
        "image, label = train_dataset[0]\n",
        "print (image.size())\n",
        "print (label)"
      ],
      "execution_count": 0,
      "outputs": [
        {
          "output_type": "stream",
          "text": [
            "torch.Size([1, 28, 28])\n",
            "5\n"
          ],
          "name": "stdout"
        }
      ]
    },
    {
      "cell_type": "code",
      "metadata": {
        "id": "p8_YOOaILwOw",
        "colab_type": "code",
        "outputId": "0a28f0ac-bb75-4a48-c850-7b8d5232e819",
        "colab": {
          "base_uri": "https://localhost:8080/",
          "height": 269
        }
      },
      "source": [
        "plt.imshow(image[0].numpy(), cmap='gray')\n",
        "plt.show()"
      ],
      "execution_count": 0,
      "outputs": [
        {
          "output_type": "display_data",
          "data": {
            "image/png": "[encoded data removed]",
            "text/plain": [
              "<Figure size 432x288 with 1 Axes>"
            ]
          },
          "metadata": {
            "tags": []
          }
        }
      ]
    },
    {
      "cell_type": "code",
      "metadata": {
        "id": "TgMkB-S5NUlY",
        "colab_type": "code",
        "colab": {}
      },
      "source": [
        "train_loader = torch.utils.data.DataLoader(dataset=train_dataset, batch_size=64, shuffle=True)\n",
        "# Actual usage of the data loader is as below.\n",
        "for images, labels in train_loader:\n",
        "    # Training code should be written here.\n",
        "    pass"
      ],
      "execution_count": 0,
      "outputs": []
    },
    {
      "cell_type": "markdown",
      "metadata": {
        "id": "syF6-24Xd2QS",
        "colab_type": "text"
      },
      "source": [
        "<font color='red'> **Q 13** </font> : **Build a linear classifier on GPU for MNIST and compute its accuracy.**"
      ]
    },
    {
      "cell_type": "code",
      "metadata": {
        "id": "xlgi8ok6cqcC",
        "colab_type": "code",
        "colab": {}
      },
      "source": [
        ""
      ],
      "execution_count": 0,
      "outputs": []
    }
  ]
}